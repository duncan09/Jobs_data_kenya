{
 "cells": [
  {
   "cell_type": "markdown",
   "metadata": {},
   "source": [
    "## Lets scrape a jobs website in Kenya to try and answer a few questions\n",
    "### Most popular industry\n",
    "### Average experience level\n",
    "### Other insights we can gather"
   ]
  },
  {
   "cell_type": "code",
   "execution_count": 1,
   "metadata": {},
   "outputs": [],
   "source": [
    "#lets import all the necessary libraries first\n",
    "from selenium import webdriver\n",
    "from selenium.webdriver.common.by import By\n",
    "from selenium.webdriver.common.keys import Keys\n",
    "from selenium.webdriver.common.timeouts import Timeouts\n",
    "from selenium.webdriver.support import expected_conditions as EC\n",
    "from selenium.webdriver.support.wait import WebDriverWait\n",
    "from selenium.webdriver.support.select import Select\n",
    "from selenium.webdriver.chrome.options import Options\n",
    "import xlsxwriter\n",
    "\n",
    "DRIVER_PATH='D:\\chromedriver_win32\\chromedriver.exe'\n",
    "options = Options();\n",
    "options.page_load_strategy=\"eager\"\n",
    "options.add_argument(\"enable-features=NetworkServiceInProcess\")\n",
    "\n"
   ]
  },
  {
   "cell_type": "code",
   "execution_count": 2,
   "metadata": {},
   "outputs": [
    {
     "name": "stderr",
     "output_type": "stream",
     "text": [
      "<ipython-input-2-efd1b6cfa5fe>:2: DeprecationWarning: executable_path has been deprecated, please pass in a Service object\n",
      "  driver=webdriver.Chrome(executable_path=DRIVER_PATH)\n"
     ]
    }
   ],
   "source": [
    "#lets scrape the data from the site\n",
    "driver=webdriver.Chrome(executable_path=DRIVER_PATH,options=options)\n",
    "driver.get('https://www.myjobmag.co.ke/search/jobs?experience=1+-+4&currentpage=1')"
   ]
  },
  {
   "cell_type": "code",
   "execution_count": 4,
   "metadata": {},
   "outputs": [
    {
     "name": "stderr",
     "output_type": "stream",
     "text": [
      "<ipython-input-4-81008581af28>:3: DeprecationWarning: executable_path has been deprecated, please pass in a Service object\n",
      "  driver=webdriver.Chrome(executable_path=DRIVER_PATH)\n",
      "<ipython-input-4-81008581af28>:5: DeprecationWarning: find_elements_by_* commands are deprecated. Please use find_elements() instead\n",
      "  title=driver.find_elements_by_css_selector('li.mag-b')\n"
     ]
    },
    {
     "name": "stdout",
     "output_type": "stream",
     "text": [
      "['Head of Jameel Observatory at International Livestock Research Institute (ILRI)', 'Head of Finance and Accounting Kenya at Mastercard Foundation', 'Account Executive - Telco - Emerging Africa at Dell', 'Assistant General Manager - Personal Banking at I&M Bank', 'Director Technology, Research & Knowledge Management at Capital Markets Authority (CMA)', 'Chief of Branch, Programme at United Nations Environment Programme (UNEP)', 'Executive Director - Fairtrade Africa (FTA) at Deloitte Consulting', 'Managing Director at Gusii Water and Sanitation Company Limited (GWASCO)', 'Chief Executive Officer at Aga Khan University Hospital', 'Bi-Lingual Program Director, Africa Region at Human Capital Synergies Africa Ltd', 'Clinical Quality of Care /Service Delivery at Human Capital Synergies Africa Ltd', 'Director Legal Affairs And Regulatory Services at National Land Commission', 'Deputy Chief of Party - Kenya HSS \"Job Details\" at Abt Associates', 'Director Frequency Spectrum Management at Communications Authority of Kenya', 'Director, Competitor Management at Communications Authority of Kenya', 'Chief Commercial Officer at Human Capital Synergies Africa Ltd', 'Associate Partner, Nairobi at Instiglio', 'General Manager (Infrastructure Development) at Northern Water Works Development Agency (NWWDA)']\n",
      "['Corporation Secretary/Chief Legal at Kenya Airports Authority', 'General Manager, Finance at Kenya Airports Authority', 'Corporation Secretary And Director Of Legal Services at Kenya Marine and Fisheries Research Institute (KMFRI)', 'Head Of Business Development at Plan International', 'Manager, Engineering at Agro-Chemical and Food Company', 'Manager, Supply Chain Management at Agro-Chemical and Food Company', 'Senior Manager-Service Operations at Safaricom Kenya', 'Chief Executive Officer at Co-operative Bank of Kenya', 'Managing Director at Kenya Investment Authority (Keninvest)', 'Database Administrator I at Karatina University', 'Finance Officer at Karatina University', 'Deputy Chief Internal Auditor at Karatina University', 'Senior Communications Officer P5 at World Food Programme (WFP)', 'Regional Representative at United Nations', 'Head, Outcome & Impact Evaluation at Mastercard Foundation', 'Deputy Director – Ethics Development And Monitoring at Ethics and Anti-Corruption Commission', 'Director – Ethics And Leadership at Ethics and Anti-Corruption Commission', 'Choef Budget and Financial Management Services at United Nations Office at Nairobi (UNON)']\n"
     ]
    }
   ],
   "source": [
    "#lets scrape the data by item\n",
    "for page in range(1,3):\n",
    "    driver=webdriver.Chrome(executable_path=DRIVER_PATH)\n",
    "    driver.get('https://www.myjobmag.co.ke/search/jobs?experience=11+-+35&currentpage='+str(page))\n",
    "    title=driver.find_elements_by_css_selector('li.mag-b')\n",
    "\n",
    "    job_titles=[]\n",
    "    for t in title:\n",
    "        job_titles.append(t.text)\n",
    "    print(job_titles)\n"
   ]
  },
  {
   "cell_type": "code",
   "execution_count": 18,
   "metadata": {},
   "outputs": [
    {
     "name": "stdout",
     "output_type": "stream",
     "text": [
      "['Choef Budget and Financial Management Services at United Nations Office at Nairobi (UNON)']\n"
     ]
    }
   ],
   "source": [
    "print(job_titles)"
   ]
  },
  {
   "cell_type": "code",
   "execution_count": 9,
   "metadata": {},
   "outputs": [],
   "source": [
    "import requests\n",
    "from bs4 import BeautifulSoup\n",
    "\n",
    "with open(\"titles.text\",\"w\") as f: \n",
    "    for i in range(1,45):\n",
    "        url1=\"https://www.myjobmag.co.ke/search/jobs?experience=11+-+35&currentpage=\"+str(i)\n",
    "        html1=requests.get(url1).content\n",
    "        soup1=BeautifulSoup(html1,\"html.parser\")\n",
    "        job_list1=soup1.find_all(\"li\",attrs={\"class\":\"mag-b\"})\n",
    "        for job in job_list1:\n",
    "            f.write(job.text)"
   ]
  },
  {
   "cell_type": "code",
   "execution_count": 1,
   "metadata": {},
   "outputs": [
    {
     "name": "stdout",
     "output_type": "stream",
     "text": [
      "Head of Finance and Accounting Kenya at Mastercard Foundation\n",
      "\n"
     ]
    }
   ],
   "source": [
    "f=open(\"titles.text\",\"r\")\n",
    "text=f.readlines()\n",
    "lines=text[1::2]\n",
    "print(lines[1])"
   ]
  },
  {
   "cell_type": "code",
   "execution_count": 13,
   "metadata": {},
   "outputs": [],
   "source": [
    "import requests\n",
    "import re\n",
    "from urllib.parse import urljoin\n",
    "from bs4 import BeautifulSoup,SoupStrainer\n",
    "urls_list=[]\n",
    "\n",
    "start_url=\"https://www.myjobmag.co.ke\"\n",
    "\n",
    "with open(\"urls2.text\",\"w\") as f:\n",
    "    for page in range(1,45):\n",
    "        urls=\"https://www.myjobmag.co.ke/search/jobs?experience=11+-+35&currentpage=\"+str(page)\n",
    "        urls_list.append(urls)\n",
    "    for url in urls_list:\n",
    "        html=requests.get(url).content\n",
    "        soup=BeautifulSoup(html,\"html.parser\")\n",
    "        job_list=soup.find(\"ul\",attrs={\"class\":\"job-list\"}).find_all(\"a\",href=True)\n",
    "        for job in job_list:\n",
    "            a_tags=job.attrs[\"href\"]\n",
    "            links=urljoin(start_url,a_tags)\n",
    "            f.write(str(links))\n",
    "            f.write(\"\\n\")\n",
    "        \n"
   ]
  },
  {
   "cell_type": "code",
   "execution_count": 3,
   "metadata": {},
   "outputs": [
    {
     "name": "stdout",
     "output_type": "stream",
     "text": [
      "['https://www.myjobmag.co.ke/job/head-of-jameel-observatory-international-livestock-research-institute-ilri', 'https://www.myjobmag.co.ke/job/head-of-finance-and-accounting-kenya-mastercard-foundation-1', 'https://www.myjobmag.co.ke/job/account-executive-telco-emerging-africa-dell-3', 'https://www.myjobmag.co.ke/job/assistant-general-manager-personal-banking-i-m-bank', 'https://www.myjobmag.co.ke/job/director-technology-research-knowledge-management-capital-markets-authority-cma']\n"
     ]
    }
   ],
   "source": [
    "f=open(\"urls2.text\",\"r\")\n",
    "urls2=f.read()\n",
    "x2=urls2.split(\"\\n\")\n",
    "final_urls2=x2[1::2]\n",
    "print(final_urls2[:5])"
   ]
  },
  {
   "cell_type": "code",
   "execution_count": null,
   "metadata": {},
   "outputs": [],
   "source": [
    "\n",
    "f=open(\"urls.text\",\"r\")\n",
    "urls=f.read()\n",
    "# print(type(urls))\n",
    "x=urls.split(\"\\n\")\n",
    "final_urls=x[1::2]\n",
    "print(final_urls)\n",
    "\n"
   ]
  },
  {
   "cell_type": "code",
   "execution_count": 6,
   "metadata": {},
   "outputs": [],
   "source": [
    "link_list = []\n",
    "for each_url in final_urls:\n",
    "    link_string = '<a href = \"'\n",
    "    link_string = link_string + each_url\n",
    "    link_string = link_string +'\">' \n",
    "    link_string = link_string + '</a>\\n'\n",
    "    link_list.append(link_string)\n"
   ]
  },
  {
   "cell_type": "code",
   "execution_count": null,
   "metadata": {},
   "outputs": [],
   "source": [
    "for link in link_list:\n",
    "    print(link)"
   ]
  },
  {
   "cell_type": "code",
   "execution_count": null,
   "metadata": {},
   "outputs": [],
   "source": [
    "#retrieve link from list and click it with selenium to get the data inside\n",
    "import requests\n",
    "from bs4 import BeautifulSoup\n",
    "\n",
    "\n",
    "text_data=[]\n",
    "with open(\"jobs.text\",\"w\") as f:\n",
    "    for i in final_urls2:\n",
    "        link=requests.get(i).content\n",
    "        soup=BeautifulSoup(link,\"html.parser\")\n",
    "        job_list=soup.find_all(\"ul\",class_=\"job-key-info\")\n",
    "        for job in job_list:\n",
    "            f.write(job.text)  \n",
    "\n",
    "f.close()"
   ]
  }
 ],
 "metadata": {
  "interpreter": {
   "hash": "f23faf4bfe871c203c8bec80520af5927fc7cb1ae3bd834ddf554ee587ad1c05"
  },
  "kernelspec": {
   "display_name": "Python 3.8.7 64-bit",
   "name": "python3"
  },
  "language_info": {
   "codemirror_mode": {
    "name": "ipython",
    "version": 3
   },
   "file_extension": ".py",
   "mimetype": "text/x-python",
   "name": "python",
   "nbconvert_exporter": "python",
   "pygments_lexer": "ipython3",
   "version": "3.8.7"
  },
  "orig_nbformat": 4
 },
 "nbformat": 4,
 "nbformat_minor": 2
}
